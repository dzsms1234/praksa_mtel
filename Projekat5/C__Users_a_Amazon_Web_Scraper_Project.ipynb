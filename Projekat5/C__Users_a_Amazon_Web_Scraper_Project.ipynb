{
 "cells": [
  {
   "cell_type": "code",
   "execution_count": 50,
   "id": "8771e4a3",
   "metadata": {},
   "outputs": [],
   "source": [
    "# import libraries \n",
    "\n",
    "import pandas as pd\n",
    "from bs4 import BeautifulSoup\n",
    "import requests\n",
    "import time\n",
    "import datetime\n",
    "\n",
    "import smtplib\n",
    "import csv\n"
   ]
  },
  {
   "cell_type": "code",
   "execution_count": 46,
   "id": "5401ec06",
   "metadata": {},
   "outputs": [
    {
     "name": "stdout",
     "output_type": "stream",
     "text": [
      "Product title: in My Day We Had Nine Planets Astronomy Space Pluto Funny Humor Pun Adult Tee Graphic T-Shirt for Men Tshirt\n",
      "Product price: $22.99\n",
      "Date: 2021-08-25\n"
     ]
    }
   ],
   "source": [
    "URL = 'https://www.amazon.com/dp/B07LC7H9SQ/ref=sspa_dk_detail_2?psc=1&pd_rd_i=B07LC7H9SQ&pd_rd_w=TOyqI&pf_rd_p=5d846283-ed3e-4512-a744-a30f97c5d738&pd_rd_wg=880IX&pf_rd_r=REFJGH0PN6Z53V4ME3BJ&pd_rd_r=80d66c9e-552c-405e-92bf-172333030a9c&smid=A22EYBMEEDG5RX&spLa=ZW5jcnlwdGVkUXVhbGlmaWVyPUFOQUFHVUE2SEw2WVYmZW5jcnlwdGVkSWQ9QTA1MzQ4NDUxS1NTQ0w4VThPSUNNJmVuY3J5cHRlZEFkSWQ9QTAwNDExMzNMWlFXSkJONzFWNFgmd2lkZ2V0TmFtZT1zcF9kZXRhaWxfdGhlbWF0aWMmYWN0aW9uPWNsaWNrUmVkaXJlY3QmZG9Ob3RMb2dDbGljaz10cnVl'\n",
    "\n",
    "\n",
    "headers = {\"User-Agent\": \"Mozilla/5.0 (Windows NT 10.0; Win64; x64) AppleWebKit/537.36 (KHTML, like Gecko) Chrome/92.0.4515.131 Safari/537.36 OPR/78.0.4093.147\", \"Accept-Encoding\":\"gzip, deflate\", \"Accept\":\"text/html,application/xhtml+xml,application/xml;q=0.9,*/*;q=0.8\", \"DNT\":\"1\",\"Connection\":\"close\", \"Upgrade-Insecure-Requests\":\"1\"}\n",
    "\n",
    "page = requests.get(URL, headers=headers)\n",
    "\n",
    "soup1 = BeautifulSoup(page.content,\"html.parser\")\n",
    "\n",
    "soup2 = BeautifulSoup(soup1.prettify(),\"html.parser\")\n",
    "\n",
    "title = soup2.find(id='productTitle').get_text().strip()\n",
    "\n",
    "print(\"Product title:\", title)\n",
    "\n",
    "price = soup2.find(id='priceblock_ourprice').get_text().strip()[1:]\n",
    "\n",
    "print(\"Product price: $\" + price)\n",
    "\n",
    "\n",
    "\n",
    "print(\"Date:\",today)\n",
    "\n"
   ]
  },
  {
   "cell_type": "code",
   "execution_count": 49,
   "id": "2cf3e6ac",
   "metadata": {},
   "outputs": [],
   "source": [
    "header = ['title','price', 'date']\n",
    "data = [title, price, today]\n",
    "\n",
    "\"\"\"\n",
    "with open(\"AmazonWebScraperDataset.csv\", 'w', newline='',encoding='UTF*')as f:\n",
    "    writer = csv.writer(f)\n",
    "    writer.writerow(header)\n",
    "    writer.writerow(data)\n",
    "\"\"\"    "
   ]
  },
  {
   "cell_type": "code",
   "execution_count": 63,
   "id": "6158a762",
   "metadata": {},
   "outputs": [
    {
     "name": "stdout",
     "output_type": "stream",
     "text": [
      "                                               title  price        date\n",
      "0  in My Day We Had Nine Planets Astronomy Space ...  22.99  2021-08-25\n",
      "1  in My Day We Had Nine Planets Astronomy Space ...  22.99  2021-08-25\n",
      "2  in My Day We Had Nine Planets Astronomy Space ...  22.99  2021-08-25\n",
      "3  in My Day We Had Nine Planets Astronomy Space ...  22.99  2021-08-25\n",
      "4  in My Day We Had Nine Planets Astronomy Space ...  22.99  2021-08-25\n",
      "5  in My Day We Had Nine Planets Astronomy Space ...  22.99  2021-08-25\n",
      "6  in My Day We Had Nine Planets Astronomy Space ...  22.99  2021-08-25\n",
      "7  in My Day We Had Nine Planets Astronomy Space ...  22.99  2021-08-25\n",
      "8  in My Day We Had Nine Planets Astronomy Space ...  22.99  2021-08-25\n",
      "9  in My Day We Had Nine Planets Astronomy Space ...  22.99  2021-08-25\n"
     ]
    }
   ],
   "source": [
    "df = pd.read_csv(r'C:\\Users\\a\\AmazonWebScraperDataset.csv')\n",
    "print(df)"
   ]
  },
  {
   "cell_type": "code",
   "execution_count": 62,
   "id": "d2d363b5",
   "metadata": {},
   "outputs": [],
   "source": [
    "with open(\"AmazonWebScraperDataset.csv\", 'a+', newline='',encoding='UTF*')as f:\n",
    "    writer = csv.writer(f)\n",
    "    writer.writerow(data)\n",
    "    "
   ]
  },
  {
   "cell_type": "code",
   "execution_count": 68,
   "id": "2c0dbfcd",
   "metadata": {},
   "outputs": [],
   "source": [
    "def check_price():\n",
    "    URL = 'https://www.amazon.com/dp/B07LC7H9SQ/ref=sspa_dk_detail_2?psc=1&pd_rd_i=B07LC7H9SQ&pd_rd_w=TOyqI&pf_rd_p=5d846283-ed3e-4512-a744-a30f97c5d738&pd_rd_wg=880IX&pf_rd_r=REFJGH0PN6Z53V4ME3BJ&pd_rd_r=80d66c9e-552c-405e-92bf-172333030a9c&smid=A22EYBMEEDG5RX&spLa=ZW5jcnlwdGVkUXVhbGlmaWVyPUFOQUFHVUE2SEw2WVYmZW5jcnlwdGVkSWQ9QTA1MzQ4NDUxS1NTQ0w4VThPSUNNJmVuY3J5cHRlZEFkSWQ9QTAwNDExMzNMWlFXSkJONzFWNFgmd2lkZ2V0TmFtZT1zcF9kZXRhaWxfdGhlbWF0aWMmYWN0aW9uPWNsaWNrUmVkaXJlY3QmZG9Ob3RMb2dDbGljaz10cnVl'\n",
    "\n",
    "\n",
    "    headers = {\"User-Agent\": \"Mozilla/5.0 (Windows NT 10.0; Win64; x64) AppleWebKit/537.36 (KHTML, like Gecko) Chrome/92.0.4515.131 Safari/537.36 OPR/78.0.4093.147\", \"Accept-Encoding\":\"gzip, deflate\", \"Accept\":\"text/html,application/xhtml+xml,application/xml;q=0.9,*/*;q=0.8\", \"DNT\":\"1\",\"Connection\":\"close\", \"Upgrade-Insecure-Requests\":\"1\"}\n",
    "\n",
    "    page = requests.get(URL, headers=headers)\n",
    "\n",
    "    soup1 = BeautifulSoup(page.content,\"html.parser\")\n",
    "\n",
    "    soup2 = BeautifulSoup(soup1.prettify(),\"html.parser\")\n",
    "\n",
    "    title = soup2.find(id='productTitle').get_text().strip()\n",
    "\n",
    "    price = soup2.find(id='priceblock_ourprice').get_text().strip()[1:]\n",
    "    \n",
    "    today = datetime.date.today()\n",
    "    \n",
    "    header = ['title','price', 'date']\n",
    "    \n",
    "    data = [title, price, today]\n",
    "    \n",
    "    with open(\"AmazonWebScraperDataset.csv\", 'a+', newline='',encoding='UTF*')as f:\n",
    "        writer = csv.writer(f)\n",
    "        writer.writerow(data)\n",
    "    \n",
    "    if price < 15:\n",
    "        send_mail()\n",
    "            "
   ]
  },
  {
   "cell_type": "code",
   "execution_count": null,
   "id": "e3784193",
   "metadata": {},
   "outputs": [],
   "source": [
    "# Update data every single day\n",
    "\n",
    "while (True):\n",
    "    check_price()\n",
    "    time.sleep(86400)\n",
    "    "
   ]
  },
  {
   "cell_type": "code",
   "execution_count": null,
   "id": "01848a63",
   "metadata": {},
   "outputs": [],
   "source": [
    "df = pd.read_csv(r'C:\\Users\\a\\AmazonWebScraperDataset.csv')\n",
    "print(df)"
   ]
  },
  {
   "cell_type": "code",
   "execution_count": null,
   "id": "652a8746",
   "metadata": {},
   "outputs": [],
   "source": [
    "def send_mail():\n",
    "    server = smtplib.SMTP_SSL('smtp.gmail.com', 465)\n",
    "    server.ehlo()\n",
    "    # server.starttils()\n",
    "    server.ehlo()\n",
    "    server.login('TypeHereYourMAIL', 'TypeHereYourPW')\n",
    "    \n",
    "    subject = \"The product that you want is below 15$. BUY IT RIGHT NOW\"\n",
    "    body = \"Here you can type body.\"\n",
    "\n",
    "    msg = f\"Subject: {subject}\\n\\n{body}\"\n",
    "    \n",
    "    server.sendmail(\n",
    "        'TypeYourMailHere',\n",
    "        msg\n",
    "    )\n",
    "    "
   ]
  }
 ],
 "metadata": {
  "kernelspec": {
   "display_name": "Python 3",
   "language": "python",
   "name": "python3"
  },
  "language_info": {
   "codemirror_mode": {
    "name": "ipython",
    "version": 3
   },
   "file_extension": ".py",
   "mimetype": "text/x-python",
   "name": "python",
   "nbconvert_exporter": "python",
   "pygments_lexer": "ipython3",
   "version": "3.8.8"
  }
 },
 "nbformat": 4,
 "nbformat_minor": 5
}
